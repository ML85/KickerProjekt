{
 "cells": [
  {
   "cell_type": "code",
   "execution_count": null,
   "id": "cba5e1f3",
   "metadata": {},
   "outputs": [],
   "source": [
    "import torch\n",
    "import torchvision\n",
    "from ultralytics import YOLO\n",
    "\n",
    "# build from YAML and transfer weights\n",
    "model = YOLO('yolov8m.yaml').load('yolov8m.pt')\n",
    "\n",
    "# Train the model using the own dataset for 30 epochs\n",
    "results = model.train(data='data.yaml', epochs=30, batch=8, imgsz=640, device=0)\n",
    "\n",
    "# Evaluate the model's performance on the validation set\n",
    "results = model.val()"
   ]
  },
  {
   "cell_type": "code",
   "execution_count": 1,
   "id": "265001f4",
   "metadata": {},
   "outputs": [
    {
     "name": "stdout",
     "output_type": "stream",
     "text": [
      "8.6.1\n"
     ]
    }
   ],
   "source": [
    "import tensorrt\n",
    "print(tensorrt.__version__)"
   ]
  },
  {
   "cell_type": "code",
   "execution_count": null,
   "id": "c952bc0d",
   "metadata": {},
   "outputs": [],
   "source": [
    "from ultralytics import YOLO\n",
    "import tensorrt\n",
    "\n",
    "# Load a model\n",
    "model = YOLO(r'C:\\...\\runs\\detect\\train11\\weights\\best.pt')\n",
    "\n",
    "# Export the model\n",
    "model.export(format='engine', half=True, device=0)"
   ]
  }
 ],
 "metadata": {
  "kernelspec": {
   "display_name": "Python 3 (ipykernel)",
   "language": "python",
   "name": "python3"
  },
  "language_info": {
   "codemirror_mode": {
    "name": "ipython",
    "version": 3
   },
   "file_extension": ".py",
   "mimetype": "text/x-python",
   "name": "python",
   "nbconvert_exporter": "python",
   "pygments_lexer": "ipython3",
   "version": "3.9.7"
  }
 },
 "nbformat": 4,
 "nbformat_minor": 5
}
